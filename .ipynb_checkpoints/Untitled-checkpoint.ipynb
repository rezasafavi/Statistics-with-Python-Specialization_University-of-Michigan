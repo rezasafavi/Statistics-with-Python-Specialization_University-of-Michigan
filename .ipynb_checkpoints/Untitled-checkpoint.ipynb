{
 "cells": [
  {
   "cell_type": "markdown",
   "id": "1ba5fb70",
   "metadata": {},
   "source": [
    "# What are Jupyter Notebooks"
   ]
  },
  {
   "cell_type": "markdown",
   "id": "828bf5a0",
   "metadata": {},
   "source": [
    "Jupyter is a web-based interactive development environment that supports multiple programming languages. It is commonly used as an \"IDE\" (Integrated Development Environment) for the Python programming language, especially when doing data science. The interactive environment that Jupyter provides enables researchers to create reproducible analyses and formulate a story from data within a single document.\n",
    "\n",
    "Here is an example of a completed Jupyter Notebook from a scientific investigation that includes extensive code, mathematics, graphics, and text.\n",
    "\n",
    "Concretely speaking, a Jupyter notebook is a file with file extension \".ipynb\". You can download and share these files to share your work."
   ]
  },
  {
   "cell_type": "markdown",
   "id": "8792ce1f",
   "metadata": {},
   "source": [
    "# How does it work?"
   ]
  },
  {
   "cell_type": "markdown",
   "id": "33f25775",
   "metadata": {},
   "source": [
    "Jupyter is an interface that runs in a web browser. The code that you write in a Jupyter notebook does not execute in the browser, instead Jupyter connects to a Python session which may be running on your computer, or somewhere in the cloud. \n",
    "In this course, you will be using Jupyter notebooks that interface with Python sessions running on Coursera's cloud."
   ]
  },
  {
   "cell_type": "markdown",
   "id": "b6827fd3",
   "metadata": {},
   "source": [
    "# The structure of a Jupyter notebook"
   ]
  },
  {
   "cell_type": "markdown",
   "id": "341be71d",
   "metadata": {},
   "source": [
    "A Jupyter notebook is a series of \"cells\". Each cell in a Jupyter notebook is either a \"code cell\" or a \"Markdown cell\". In the toolbar you will see a dropdown that allows you to change the type of a cell. For this series of courses, the code will always be Python code. The contents of \"Markdown\" cells is entered as plain text, optionally formatted using Markdown as discussed further below.Double-click a cell to edit its contents. Then press shift-enter to cause Markdown cells to be rendered, and code cells to be executed.\n",
    "\n",
    "After executing a cell, anything that is explicitly printed by your code will be displayed below the cell. The result of the last line of code in a cell will always be printed, unless the line ends with a semicolon. If your code generates any graphics they will be displayed below the cell."
   ]
  },
  {
   "cell_type": "markdown",
   "id": "3bf06086",
   "metadata": {},
   "source": [
    "# Program flow"
   ]
  },
  {
   "cell_type": "markdown",
   "id": "6c1bcc8b",
   "metadata": {},
   "source": [
    "In a Jupyter notebook you will probably organize your code into multiple cells. These cells execute in the same underlying Python session and can access the results of each other's computations. Note that it is possible to run the cells in any order (by pressing shift-enter on the cells in some sequence). However doing this can be quite dangerous as the results may depend on the order in which the cells are run. It is strongly advised to always run the cells in order, starting from the first cell, unless you are sure that there are no dependencies between the cells. The \"Cell\" menu on the toolbar contains an option to \"Run All\" cells, which is the safest way to produce a reproducible result.\n",
    "\n",
    "The number next to each code cell gives the order in which the cells were run. A cell that has not yet been run will not be assigned a number, and a cell that is currently running will have an asterisk (*) instead of a number."
   ]
  },
  {
   "cell_type": "markdown",
   "id": "74014b0d",
   "metadata": {},
   "source": [
    "# What is Markdown?"
   ]
  },
  {
   "cell_type": "markdown",
   "id": "2a22b39a",
   "metadata": {},
   "source": [
    "Markdown is a \"markup language\" that uses plain text formatting syntax. This means that we can modify the formatting of our text with the use of plain text format specifiers. Almost all plain text is also valid Markdown, and will appear exactly as you have typed it. You can learn Markdown gradually, beginning with plain text, and then learning some of the formatting syntax as it arises in your work.\n",
    "\n",
    "Some examples of formatting that can be accomplished in Markdown are:\n",
    "\n",
    "Headers\n",
    "Text modifications such as italics and bold\n",
    "Ordered and Unordered lists\n",
    "Links\n",
    "Tables\n",
    "Images\n",
    "Etc.\n",
    "Next we will showcase some examples of how this formatting is done. For each of the cells below, double click on the cell to reveal the underlying Markdown, and then type ctrl+enter to return to the formatted view.\n",
    "\n",
    "Headers:\n",
    "\n",
    "H1\n",
    "H2\n",
    "H3\n",
    "H4\n",
    "H5\n",
    "H6\n",
    "Text modifications:\n",
    "\n",
    "Emphasis, aka italics, with asterisks or underscores.\n",
    "\n",
    "Strong emphasis, aka bold, with asterisks or underscores.\n",
    "\n",
    "Combined emphasis with asterisks and underscores.\n",
    "\n",
    "Strikethrough uses two tildes. Scratch this.\n",
    "\n",
    "Lists:\n",
    "\n",
    "First ordered list item\n",
    "Another item\n",
    "Unordered sub-list.\n",
    "Actual numbers don't matter, just that it's a number\n",
    "Ordered sub-list\n",
    "And another item.\n",
    "Unordered list can use asterisks\n",
    "Or minuses\n",
    "Or pluses\n",
    "Hyperlinks:\n",
    "\n",
    "http://www.umich.edu\n",
    "\n",
    "http://www.umich.edu\n",
    "\n",
    "The University of Michigan's Homepage\n",
    "\n",
    "To see more examples of Markdown syntax and features such as tables, images, etc. head to the following link: Markdown Reference"
   ]
  },
  {
   "cell_type": "markdown",
   "id": "cec30ffa",
   "metadata": {},
   "source": [
    "# Simple examples of code cells"
   ]
  },
  {
   "cell_type": "code",
   "execution_count": 2,
   "id": "ba33bdb9",
   "metadata": {},
   "outputs": [
    {
     "name": "stdout",
     "output_type": "stream",
     "text": [
      "This is a python code cell\n"
     ]
    }
   ],
   "source": [
    "# This is python code\n",
    "print(\"This is a python code cell\")"
   ]
  },
  {
   "cell_type": "code",
   "execution_count": 3,
   "id": "62a9b0a6",
   "metadata": {},
   "outputs": [
    {
     "data": {
      "text/plain": [
       "4"
      ]
     },
     "execution_count": 3,
     "metadata": {},
     "output_type": "execute_result"
    }
   ],
   "source": [
    "# All lines of code are executed, but only the results of the final line are displayed\n",
    "1+2\n",
    "1+3"
   ]
  },
  {
   "cell_type": "code",
   "execution_count": 4,
   "id": "a98c01a4",
   "metadata": {},
   "outputs": [
    {
     "name": "stdout",
     "output_type": "stream",
     "text": [
      "3\n"
     ]
    },
    {
     "data": {
      "text/plain": [
       "4"
      ]
     },
     "execution_count": 4,
     "metadata": {},
     "output_type": "execute_result"
    }
   ],
   "source": [
    "# To display the result of a line that is not the final line, use print.\n",
    "print(1+2)\n",
    "1+3"
   ]
  },
  {
   "cell_type": "code",
   "execution_count": 5,
   "id": "2ce89abc",
   "metadata": {},
   "outputs": [
    {
     "name": "stdout",
     "output_type": "stream",
     "text": [
      "x has been set to 1738\n"
     ]
    }
   ],
   "source": [
    "### Global variables initialized in one cell are visible in any cell executed subsequently\n",
    "\n",
    "x = 1738\n",
    "\n",
    "print(\"x has been set to \" + str(x))"
   ]
  },
  {
   "cell_type": "code",
   "execution_count": 7,
   "id": "fe5eb291",
   "metadata": {},
   "outputs": [
    {
     "name": "stdout",
     "output_type": "stream",
     "text": [
      "1738\n"
     ]
    }
   ],
   "source": [
    "### Print x\n",
    "\n",
    "print(x)"
   ]
  },
  {
   "cell_type": "markdown",
   "id": "65734023",
   "metadata": {},
   "source": [
    "# Command vs. Edit Mode & Shortcuts"
   ]
  },
  {
   "cell_type": "markdown",
   "id": "67e9d3d2",
   "metadata": {},
   "source": [
    "There is an edit and a command mode for jupyter notebooks.  The mode is easily identifiable by the color of the left border of the cell.\n",
    "\n",
    "Blue = Command Mode.\n",
    "\n",
    "Green = Edit Mode.\n",
    "\n",
    "Command Mode can be toggled by pressing **esc** on your keyboard.\n",
    "\n",
    "Commands can be used to execute notebook functions.  For example, changing the format of a markdown cell or adding line numbers.\n",
    "\n",
    "Lets toggle line numbers while in command mode by pressing **L**.\n",
    "\n",
    "#### Additional Shortcuts\n",
    "\n",
    "There are a lot of shortcuts that can be used to improve productivity while using Jupyter Notebooks.\n",
    "\n",
    "Here is a list:"
   ]
  },
  {
   "cell_type": "code",
   "execution_count": null,
   "id": "b86ec800",
   "metadata": {},
   "outputs": [],
   "source": []
  },
  {
   "cell_type": "markdown",
   "id": "4df920e1",
   "metadata": {},
   "source": [
    "# How do you install Jupyter Notebooks?"
   ]
  },
  {
   "cell_type": "markdown",
   "id": "20ed82bb",
   "metadata": {},
   "source": [
    "Note: Coursera provides embedded Jupyter notebooks within the course, thus the download is not a requirement unless you wish to explore Jupyter further on your own computer.\n",
    "\n",
    "Official Installation Guide: https://jupyter.readthedocs.io/en/latest/install.html\n",
    "\n",
    "Jupyter recommends utilizing Anaconda, which is a bundle of software compatible with Windows, macOS, and Linux systems.\n",
    "\n",
    "Anaconda Download: https://www.anaconda.com/download/#macos"
   ]
  },
  {
   "cell_type": "markdown",
   "id": "a289a3ff",
   "metadata": {},
   "source": [
    "# Data Types in Python"
   ]
  },
  {
   "cell_type": "markdown",
   "id": "4a8769a7",
   "metadata": {},
   "source": [
    "In computing, a data type refers to the way in which a value is stored in the computer's memory, and to the types of calculations that can be performed on it. The following data types can be used in base Python:\n",
    "\n",
    "boolean\n",
    ",integer\n",
    ",float\n",
    ",string\n",
    ",list\n",
    ",None\n",
    ",complex\n",
    ",object\n",
    ",set\n",
    ",dictionary\n",
    "Here we will only focus on the bolded data types. In this notebook, we will be using data types from base Python, as well as some data types from the numpy and pandas libraries. Therefore we import the numpy library next."
   ]
  },
  {
   "cell_type": "code",
   "execution_count": 8,
   "id": "3459faef",
   "metadata": {},
   "outputs": [],
   "source": [
    "import numpy as np"
   ]
  },
  {
   "cell_type": "markdown",
   "id": "9b5b338c",
   "metadata": {},
   "source": [
    "Let's connect these base Python data types to the variable types that we learned about in the Variable Types video. Recall that a \"variable type\" in this context refers to the type of information encoded in the variable, and informs the statistical analyses that can be performed on it. While there is a relationship between data types in computing and variable types in statistics, they are distinct ideas, and there is no one-to-one mapping between them."
   ]
  },
  {
   "cell_type": "markdown",
   "id": "f2978082",
   "metadata": {},
   "source": [
    "# The quantitative (numerical) variable type"
   ]
  },
  {
   "cell_type": "markdown",
   "id": "fa010092",
   "metadata": {},
   "source": [
    "Quantitative variables usually represent an amount that can be measured in the real world. It is possible to do arithmetic when working with quantitative variables. As a result, statistical summaries like the mean (average value) make sense. Sometimes, it is useful to distinguish two types of quantitative variables:\n",
    "\n",
    "Discrete -- a variable that can only take on a limited range of values, e.g. only positive integers\n",
    "Continuous -- a variable that can in theory represent any real number, or a quantitative value measured to arbitrarily high precision\n",
    "It is often (but not always) the case that discrete data are reperented by the computer with integers, and continuous data are represented by the computer with float values.\n",
    "\n",
    "In base Python a single \"literal\" number is stored as an integer or as a \"float\" value based on whether it is expressed with a decimal point. We can see this in the following examples:"
   ]
  },
  {
   "cell_type": "code",
   "execution_count": 9,
   "id": "ecb1809d",
   "metadata": {},
   "outputs": [
    {
     "data": {
      "text/plain": [
       "int"
      ]
     },
     "execution_count": 9,
     "metadata": {},
     "output_type": "execute_result"
    }
   ],
   "source": [
    "type(4)"
   ]
  },
  {
   "cell_type": "code",
   "execution_count": 10,
   "id": "8e576b32",
   "metadata": {},
   "outputs": [
    {
     "data": {
      "text/plain": [
       "float"
      ]
     },
     "execution_count": 10,
     "metadata": {},
     "output_type": "execute_result"
    }
   ],
   "source": [
    "type(4.)"
   ]
  },
  {
   "cell_type": "code",
   "execution_count": 11,
   "id": "118f24a4",
   "metadata": {},
   "outputs": [
    {
     "data": {
      "text/plain": [
       "int"
      ]
     },
     "execution_count": 11,
     "metadata": {},
     "output_type": "execute_result"
    }
   ],
   "source": [
    "type(0)"
   ]
  },
  {
   "cell_type": "code",
   "execution_count": 12,
   "id": "523badbb",
   "metadata": {},
   "outputs": [
    {
     "data": {
      "text/plain": [
       "int"
      ]
     },
     "execution_count": 12,
     "metadata": {},
     "output_type": "execute_result"
    }
   ],
   "source": [
    "type(-3)"
   ]
  },
  {
   "cell_type": "markdown",
   "id": "0388796b",
   "metadata": {},
   "source": [
    "### Floats"
   ]
  },
  {
   "cell_type": "markdown",
   "id": "a0b74da2",
   "metadata": {},
   "source": [
    "Floating point values are the main numeric data type used to represent quantitative data, or any numeric value that is not a whole number."
   ]
  },
  {
   "cell_type": "code",
   "execution_count": 13,
   "id": "310fb8e7",
   "metadata": {},
   "outputs": [
    {
     "data": {
      "text/plain": [
       "0.6"
      ]
     },
     "execution_count": 13,
     "metadata": {},
     "output_type": "execute_result"
    }
   ],
   "source": [
    "3/5"
   ]
  },
  {
   "cell_type": "markdown",
   "id": "bbc8d7ca",
   "metadata": {},
   "source": [
    "Recall that ** represents exponentiation in Python."
   ]
  },
  {
   "cell_type": "code",
   "execution_count": 14,
   "id": "1a3cceac",
   "metadata": {},
   "outputs": [
    {
     "data": {
      "text/plain": [
       "0.6000000000000001"
      ]
     },
     "execution_count": 14,
     "metadata": {},
     "output_type": "execute_result"
    }
   ],
   "source": [
    "6*10**(-1)"
   ]
  },
  {
   "cell_type": "code",
   "execution_count": 15,
   "id": "f5b87314",
   "metadata": {},
   "outputs": [
    {
     "data": {
      "text/plain": [
       "float"
      ]
     },
     "execution_count": 15,
     "metadata": {},
     "output_type": "execute_result"
    }
   ],
   "source": [
    "type(3/5)"
   ]
  },
  {
   "cell_type": "markdown",
   "id": "0a76352a",
   "metadata": {},
   "source": [
    "The integer division operator // divides two integers and drops the remainder."
   ]
  },
  {
   "cell_type": "code",
   "execution_count": 16,
   "id": "c8041a5b",
   "metadata": {},
   "outputs": [
    {
     "name": "stdout",
     "output_type": "stream",
     "text": [
      "0\n"
     ]
    },
    {
     "data": {
      "text/plain": [
       "int"
      ]
     },
     "execution_count": 16,
     "metadata": {},
     "output_type": "execute_result"
    }
   ],
   "source": [
    "print(3//5)\n",
    "type(3//5)"
   ]
  },
  {
   "cell_type": "code",
   "execution_count": 17,
   "id": "b5356278",
   "metadata": {},
   "outputs": [
    {
     "data": {
      "text/plain": [
       "float"
      ]
     },
     "execution_count": 17,
     "metadata": {},
     "output_type": "execute_result"
    }
   ],
   "source": [
    "type(np.pi)"
   ]
  },
  {
   "cell_type": "code",
   "execution_count": 18,
   "id": "7d704891",
   "metadata": {},
   "outputs": [
    {
     "data": {
      "text/plain": [
       "float"
      ]
     },
     "execution_count": 18,
     "metadata": {},
     "output_type": "execute_result"
    }
   ],
   "source": [
    "type(4.0)"
   ]
  },
  {
   "cell_type": "markdown",
   "id": "13904737",
   "metadata": {},
   "source": [
    "We can do something similar using Numpy. Note that here we obtain a \"numpy float\" which is distinct from a base Python float. For most purposes we can treat these two varieties of floats as being equivalent."
   ]
  },
  {
   "cell_type": "code",
   "execution_count": 19,
   "id": "b445a1d3",
   "metadata": {},
   "outputs": [
    {
     "name": "stdout",
     "output_type": "stream",
     "text": [
      "3.5\n",
      "<class 'numpy.float64'>\n"
     ]
    }
   ],
   "source": [
    "numbers = np.r_[2, 3, 4, 5]\n",
    "print(numbers.mean())\n",
    "print(type(numbers.mean()))"
   ]
  },
  {
   "cell_type": "markdown",
   "id": "5796c2fa",
   "metadata": {},
   "source": [
    "### Categorical (or qualitative) variable types"
   ]
  },
  {
   "cell_type": "markdown",
   "id": "ea29e65e",
   "metadata": {},
   "source": [
    "In statistics, there are two main variants of a categorical variable:\n",
    "\n",
    "* *Nominal* variables have no ordering, e.g. what country was a person born in, or whether a person is of age 65 years or older.\n",
    "\n",
    "* *Ordinal* variables have an ordering, e.g. how many times has a person been involved in a traffic accident, or how strongly does a person support a policy (e.g. strongly oppose, neutral, strongly support)\n",
    "\n",
    "In base Python, Integer (int), Boolean (bool), and String (str) data types are often used to represent nominal values.\n",
    "\n",
    "Ordinal values may be represented by numbers, but it is important to remember that these numbers are codes that do not contain any quantitative information."
   ]
  },
  {
   "cell_type": "markdown",
   "id": "8305a60b",
   "metadata": {},
   "source": [
    "### Boolean"
   ]
  },
  {
   "cell_type": "markdown",
   "id": "0e76a144",
   "metadata": {},
   "source": [
    "A Boolean variable has two possible values: \"True\" and \"False\" (in Python the capitalization of these terms is important). A \"Boolean expression\" is an expression involving comparison operators (<, <=, >, >=, ==) that evaluates to a Boolean value."
   ]
  },
  {
   "cell_type": "code",
   "execution_count": 20,
   "id": "44956f52",
   "metadata": {},
   "outputs": [
    {
     "data": {
      "text/plain": [
       "bool"
      ]
     },
     "execution_count": 20,
     "metadata": {},
     "output_type": "execute_result"
    }
   ],
   "source": [
    "# Boolean\n",
    "type(True)"
   ]
  },
  {
   "cell_type": "code",
   "execution_count": 21,
   "id": "d78e684b",
   "metadata": {},
   "outputs": [
    {
     "name": "stdout",
     "output_type": "stream",
     "text": [
      "False\n",
      "True\n",
      "<class 'bool'>\n"
     ]
    }
   ],
   "source": [
    "# Print the result of two Boolean expressions\n",
    "print(6 < 5)\n",
    "print(5 < 6)\n",
    "\n",
    "# Print the type of a Boolean expression's result\n",
    "print(type(6 < 5))"
   ]
  },
  {
   "cell_type": "markdown",
   "id": "79698ca9",
   "metadata": {},
   "source": [
    "Boolean expressions are often used in \"if blocks\" to control program flow"
   ]
  },
  {
   "cell_type": "code",
   "execution_count": 22,
   "id": "e09354ea",
   "metadata": {},
   "outputs": [],
   "source": [
    "if 6 < 5:\n",
    "    print(\"Yes!\")"
   ]
  },
  {
   "cell_type": "markdown",
   "id": "d2d0ecba",
   "metadata": {},
   "source": [
    "Square brackets [...] create a literal list. The list here contains only values of Boolean type. See below for further discussion of \"None\" and \"is\""
   ]
  },
  {
   "cell_type": "code",
   "execution_count": 23,
   "id": "55df70d2",
   "metadata": {},
   "outputs": [
    {
     "name": "stdout",
     "output_type": "stream",
     "text": [
      "[True, False, False, True]\n",
      "<class 'bool'>\n",
      "<class 'bool'>\n",
      "<class 'bool'>\n",
      "<class 'bool'>\n"
     ]
    }
   ],
   "source": [
    "myList = [True, 6<5, 1==3, None is None]\n",
    "print(myList)\n",
    "for element in myList:\n",
    "    print(type(element))"
   ]
  },
  {
   "cell_type": "markdown",
   "id": "46c14953",
   "metadata": {},
   "source": [
    "Python converts Boolean values to integers when doing arithmetic: False is converted to 0 and True is converted to 1."
   ]
  },
  {
   "cell_type": "code",
   "execution_count": 24,
   "id": "08ee516e",
   "metadata": {},
   "outputs": [
    {
     "name": "stdout",
     "output_type": "stream",
     "text": [
      "0.5\n"
     ]
    },
    {
     "data": {
      "text/plain": [
       "float"
      ]
     },
     "execution_count": 24,
     "metadata": {},
     "output_type": "execute_result"
    }
   ],
   "source": [
    "print(sum(myList)/len(myList))\n",
    "type(sum(myList)/len(myList))"
   ]
  },
  {
   "cell_type": "markdown",
   "id": "640458cb",
   "metadata": {},
   "source": [
    "### String"
   ]
  },
  {
   "cell_type": "markdown",
   "id": "7c4bd907",
   "metadata": {},
   "source": [
    "A string is a single \"text\" value of arbitrary length. Technically, text in Python3 is encoded using a scheme called unicode. Characters from nearly every human language can be a part of a unicode string.\n",
    "\n",
    "Single or double quotes are equivalent in Python and can be used to create string literals."
   ]
  },
  {
   "cell_type": "code",
   "execution_count": 25,
   "id": "391cb86a",
   "metadata": {},
   "outputs": [
    {
     "data": {
      "text/plain": [
       "str"
      ]
     },
     "execution_count": 25,
     "metadata": {},
     "output_type": "execute_result"
    }
   ],
   "source": [
    "type(\"This sentence makes sense\")"
   ]
  },
  {
   "cell_type": "code",
   "execution_count": 26,
   "id": "7a84c0fa",
   "metadata": {},
   "outputs": [
    {
     "data": {
      "text/plain": [
       "str"
      ]
     },
     "execution_count": 26,
     "metadata": {},
     "output_type": "execute_result"
    }
   ],
   "source": [
    "type('This sentence makes sense')"
   ]
  },
  {
   "cell_type": "markdown",
   "id": "2dbfd1ba",
   "metadata": {},
   "source": [
    "Note that the back-tick character cannot be used to create a string literal."
   ]
  },
  {
   "cell_type": "code",
   "execution_count": 27,
   "id": "80da20d6",
   "metadata": {},
   "outputs": [],
   "source": [
    "# This is not allowed\n",
    "# x = `invalid`"
   ]
  },
  {
   "cell_type": "markdown",
   "id": "09bb8207",
   "metadata": {},
   "source": [
    "Triple quotes can be used when you want a literal string to span multiple lines. Try this with single quotes and you will see that if fails."
   ]
  },
  {
   "cell_type": "code",
   "execution_count": 28,
   "id": "211c3ee0",
   "metadata": {},
   "outputs": [
    {
     "name": "stdout",
     "output_type": "stream",
     "text": [
      "This sentence makes \n",
      "sense\n"
     ]
    }
   ],
   "source": [
    "print(\"\"\"This sentence makes \n",
    "sense\"\"\")"
   ]
  },
  {
   "cell_type": "markdown",
   "id": "084c422a",
   "metadata": {},
   "source": [
    "A Python expression in quotion marks is a string and is not evaluated as code by the Python interpreter."
   ]
  },
  {
   "cell_type": "code",
   "execution_count": 29,
   "id": "cd8b6680",
   "metadata": {},
   "outputs": [
    {
     "data": {
      "text/plain": [
       "str"
      ]
     },
     "execution_count": 29,
     "metadata": {},
     "output_type": "execute_result"
    }
   ],
   "source": [
    "type(\"np.pi\")"
   ]
  },
  {
   "cell_type": "markdown",
   "id": "a6bc6d6f",
   "metadata": {},
   "source": [
    "It does not make sense to take the average of string values, so an error results."
   ]
  },
  {
   "cell_type": "code",
   "execution_count": 30,
   "id": "ecdb3edb",
   "metadata": {},
   "outputs": [],
   "source": [
    "x = np.asarray(['dog', 'koala', 'goose'])\n",
    "# This is not allowed:\n",
    "# x.mean()"
   ]
  },
  {
   "cell_type": "markdown",
   "id": "dcb7037e",
   "metadata": {},
   "source": [
    "### Nonetype"
   ]
  },
  {
   "cell_type": "markdown",
   "id": "274f6131",
   "metadata": {},
   "source": [
    "None is a special value that is a placeholder representing \"no meaningful value\". It is often returned by functions that never return a value, or that cannot return a value for certain inputs."
   ]
  },
  {
   "cell_type": "code",
   "execution_count": 31,
   "id": "036e0ed8",
   "metadata": {},
   "outputs": [
    {
     "data": {
      "text/plain": [
       "NoneType"
      ]
     },
     "execution_count": 31,
     "metadata": {},
     "output_type": "execute_result"
    }
   ],
   "source": [
    "type(None)"
   ]
  },
  {
   "cell_type": "markdown",
   "id": "6569b517",
   "metadata": {},
   "source": [
    "None can be compared using \"is\" or \"==\" but conventionaly \"is\" is preferred"
   ]
  },
  {
   "cell_type": "code",
   "execution_count": 32,
   "id": "70df3f17",
   "metadata": {},
   "outputs": [
    {
     "data": {
      "text/plain": [
       "True"
      ]
     },
     "execution_count": 32,
     "metadata": {},
     "output_type": "execute_result"
    }
   ],
   "source": [
    "None is None\n",
    "None == None"
   ]
  },
  {
   "cell_type": "markdown",
   "id": "f369c9df",
   "metadata": {},
   "source": [
    "None cannot be used in arithmetic:"
   ]
  },
  {
   "cell_type": "code",
   "execution_count": 33,
   "id": "305e6514",
   "metadata": {},
   "outputs": [],
   "source": [
    "noneList = [None]*5\n",
    "# This is not allowed:\n",
    "# sum(noneList)/len(noneList)"
   ]
  },
  {
   "cell_type": "markdown",
   "id": "a2594adc",
   "metadata": {},
   "source": [
    "### Lists"
   ]
  },
  {
   "cell_type": "markdown",
   "id": "39f4be90",
   "metadata": {},
   "source": [
    "A list can hold values (posssibly of different types) in sequence."
   ]
  },
  {
   "cell_type": "code",
   "execution_count": 35,
   "id": "738f738a",
   "metadata": {},
   "outputs": [
    {
     "name": "stdout",
     "output_type": "stream",
     "text": [
      "<class 'int'>\n",
      "<class 'float'>\n",
      "<class 'str'>\n",
      "<class 'NoneType'>\n"
     ]
    }
   ],
   "source": [
    "myList = [1, 1.1, \"This is a string\", None]\n",
    "for element in myList:\n",
    "    print(type(element))"
   ]
  },
  {
   "cell_type": "markdown",
   "id": "6100142d",
   "metadata": {},
   "source": [
    "As we have seen, arithmetic operations can only be used with numeric values:"
   ]
  },
  {
   "cell_type": "code",
   "execution_count": 36,
   "id": "decdfc8b",
   "metadata": {},
   "outputs": [],
   "source": [
    "# This is not allowed:\n",
    "# sum(myList)/len(myList)"
   ]
  },
  {
   "cell_type": "code",
   "execution_count": 37,
   "id": "5bbf4423",
   "metadata": {},
   "outputs": [
    {
     "name": "stdout",
     "output_type": "stream",
     "text": [
      "<class 'int'>\n",
      "<class 'int'>\n",
      "<class 'int'>\n"
     ]
    },
    {
     "data": {
      "text/plain": [
       "2.0"
      ]
     },
     "execution_count": 37,
     "metadata": {},
     "output_type": "execute_result"
    }
   ],
   "source": [
    "myList = [1, 2, 3]\n",
    "for element in myList:\n",
    "    print(type(element))\n",
    "sum(myList)/len(myList) # note that this outputs a float"
   ]
  },
  {
   "cell_type": "markdown",
   "id": "d980eabe",
   "metadata": {},
   "source": [
    "Elements of lists and vectors can be accessed by position, noting that Python always counts from zero:"
   ]
  },
  {
   "cell_type": "code",
   "execution_count": 38,
   "id": "b4ea96b6",
   "metadata": {},
   "outputs": [
    {
     "data": {
      "text/plain": [
       "'third'"
      ]
     },
     "execution_count": 38,
     "metadata": {},
     "output_type": "execute_result"
    }
   ],
   "source": [
    "myList = ['third', 'first', 'medium', 'small', 'large']\n",
    "myList[0]"
   ]
  },
  {
   "cell_type": "markdown",
   "id": "14b73b44",
   "metadata": {},
   "source": [
    "You can invoke certain \"methods\" on a list, which may compute a result using the list, or change the contents of the list."
   ]
  },
  {
   "cell_type": "code",
   "execution_count": 39,
   "id": "38ac8989",
   "metadata": {},
   "outputs": [
    {
     "data": {
      "text/plain": [
       "1"
      ]
     },
     "execution_count": 39,
     "metadata": {},
     "output_type": "execute_result"
    }
   ],
   "source": [
    "myList.count('medium')"
   ]
  },
  {
   "cell_type": "code",
   "execution_count": 40,
   "id": "603a035e",
   "metadata": {},
   "outputs": [
    {
     "data": {
      "text/plain": [
       "['first', 'large', 'medium', 'small', 'third']"
      ]
     },
     "execution_count": 40,
     "metadata": {},
     "output_type": "execute_result"
    }
   ],
   "source": [
    "myList.sort()\n",
    "myList"
   ]
  },
  {
   "cell_type": "markdown",
   "id": "beb6ad64",
   "metadata": {},
   "source": [
    "There are more datatypes available when using different libraries such as Pandas and Numpy, which we will introduce to you as we use them."
   ]
  },
  {
   "cell_type": "code",
   "execution_count": null,
   "id": "90313a04",
   "metadata": {},
   "outputs": [],
   "source": []
  }
 ],
 "metadata": {
  "kernelspec": {
   "display_name": "Python 3 (ipykernel)",
   "language": "python",
   "name": "python3"
  },
  "language_info": {
   "codemirror_mode": {
    "name": "ipython",
    "version": 3
   },
   "file_extension": ".py",
   "mimetype": "text/x-python",
   "name": "python",
   "nbconvert_exporter": "python",
   "pygments_lexer": "ipython3",
   "version": "3.10.0"
  }
 },
 "nbformat": 4,
 "nbformat_minor": 5
}
